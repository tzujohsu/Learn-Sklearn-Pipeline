{
  "nbformat": 4,
  "nbformat_minor": 0,
  "metadata": {
    "colab": {
      "provenance": []
    },
    "kernelspec": {
      "name": "python3",
      "display_name": "Python 3"
    },
    "language_info": {
      "name": "python"
    }
  },
  "cells": [
    {
      "cell_type": "markdown",
      "source": [
        "# Sklearn Pipelining"
      ],
      "metadata": {
        "id": "hEmK0V7ijgG1"
      }
    },
    {
      "cell_type": "markdown",
      "source": [
        "## Chaining a PCA and a Logistic Regression\n",
        "\n",
        "▶ **Pipeline: PCA -> Logistic Regression**\n",
        "\n",
        "The PCA does an unsupervised dimensionality reduction, while the logistic regression does the prediction.\n",
        "\n",
        "We use a GridSearchCV to set the dimensionality of the PCA.\n",
        "\n",
        "Dataset: Digits Dataset, each datapoint is a 8x8 image of a digit.\n",
        "\n",
        "Modified from [Pipelining: chaining a PCA and a logistic regression](https://scikit-learn.org/stable/auto_examples/compose/plot_digits_pipe.html#sphx-glr-auto-examples-compose-plot-digits-pipe-py)"
      ],
      "metadata": {
        "id": "5cshzc2Mjo3o"
      }
    },
    {
      "cell_type": "code",
      "source": [
        "# load necessary packages\n",
        "import matplotlib.pyplot as plt\n",
        "import numpy as np\n",
        "import polars as pl\n",
        "\n",
        "from sklearn import datasets\n",
        "from sklearn.decomposition import PCA\n",
        "from sklearn.linear_model import LogisticRegression\n",
        "from sklearn.model_selection import GridSearchCV\n",
        "from sklearn.pipeline import Pipeline\n",
        "from sklearn.preprocessing import StandardScaler"
      ],
      "metadata": {
        "id": "1AQIQt7ZjktL"
      },
      "execution_count": 22,
      "outputs": []
    },
    {
      "cell_type": "code",
      "execution_count": 23,
      "metadata": {
        "id": "GGRgOvn6jYRP"
      },
      "outputs": [],
      "source": [
        "# Define a pipeline to search for the best combination of PCA truncation\n",
        "# and classifier regularization.\n",
        "\n",
        "# Define the elements of pipeline: PCA, StandardScaler, Logistic Regression\n",
        "pca = PCA()\n",
        "scaler = StandardScaler()\n",
        "logistic = LogisticRegression(max_iter=10000, tol=0.05) # tol: Tolerance for stopping criteria\n",
        "\n",
        "# Create a pipeline\n",
        "pipe = Pipeline(steps=[(\"scaler\", scaler), (\"pca\", pca), (\"logistic\", logistic)])\n"
      ]
    },
    {
      "cell_type": "code",
      "source": [
        "# load the dataset\n",
        "X_digits, y_digits = datasets.load_digits(return_X_y=True)\n",
        "X_digits.shape, y_digits.shape"
      ],
      "metadata": {
        "colab": {
          "base_uri": "https://localhost:8080/"
        },
        "id": "eLQOT8EAkoB8",
        "outputId": "3e48f040-ac59-4525-fbd2-a59ac4547c5b"
      },
      "execution_count": 24,
      "outputs": [
        {
          "output_type": "execute_result",
          "data": {
            "text/plain": [
              "((1797, 64), (1797,))"
            ]
          },
          "metadata": {},
          "execution_count": 24
        }
      ]
    },
    {
      "cell_type": "code",
      "source": [
        "# Parameters of pipelines can be set using '__' separated parameter names:\n",
        "param_grid = {\n",
        "    \"pca__n_components\": [5, 15, 30, 45, 60],\n",
        "    \"logistic__C\": np.logspace(-4, 4, 4),\n",
        "}\n",
        "search = GridSearchCV(pipe, param_grid, n_jobs=2) # n_jobs: Number of jobs to run in parallel\n",
        "search.fit(X_digits, y_digits)\n",
        "print(\"Best parameter (CV score=%0.3f):\" % search.best_score_)\n",
        "print(search.best_params_)"
      ],
      "metadata": {
        "colab": {
          "base_uri": "https://localhost:8080/"
        },
        "id": "fPdn9Xebky6n",
        "outputId": "cfae0686-2672-4bc6-8ed7-32a87f36580e"
      },
      "execution_count": 25,
      "outputs": [
        {
          "output_type": "stream",
          "name": "stdout",
          "text": [
            "Best parameter (CV score=0.923):\n",
            "{'logistic__C': 0.046415888336127774, 'pca__n_components': 60}\n"
          ]
        }
      ]
    },
    {
      "cell_type": "code",
      "source": [
        "# Plot the PCA spectrum\n",
        "pca.fit(X_digits)\n",
        "\n",
        "fig, (ax0, ax1) = plt.subplots(nrows=2, sharex=True, figsize=(6, 6))\n",
        "ax0.plot(\n",
        "    np.arange(1, pca.n_components_ + 1), pca.explained_variance_ratio_, \"+\", linewidth=2\n",
        ")\n",
        "ax0.set_ylabel(\"PCA explained variance ratio\")\n",
        "\n",
        "ax0.axvline(\n",
        "    search.best_estimator_.named_steps[\"pca\"].n_components,\n",
        "    linestyle=\":\",\n",
        "    label=\"n_components chosen\",\n",
        ")\n",
        "ax0.legend(prop=dict(size=12))\n",
        "\n",
        "# For each number of components, find the best classifier results\n",
        "components_col = \"param_pca__n_components\"\n",
        "is_max_test_score = pl.col(\"mean_test_score\") == pl.col(\"mean_test_score\").max()\n",
        "best_clfs = (\n",
        "    pl.LazyFrame(search.cv_results_)\n",
        "    .filter(is_max_test_score.over(components_col))\n",
        "    .unique(components_col)\n",
        "    .sort(\"mean_test_score\", descending=True)\n",
        "    .collect()\n",
        ")\n",
        "ax1.errorbar(\n",
        "    best_clfs[components_col],\n",
        "    best_clfs[\"mean_test_score\"],\n",
        "    yerr=best_clfs[\"std_test_score\"],\n",
        ")\n",
        "ax1.set_ylabel(\"Classification accuracy (val)\")\n",
        "ax1.set_xlabel(\"n_components\")\n",
        "\n",
        "plt.xlim(-1, 70)\n",
        "\n",
        "plt.tight_layout()\n",
        "plt.show()"
      ],
      "metadata": {
        "colab": {
          "base_uri": "https://localhost:8080/",
          "height": 0
        },
        "id": "SZs0bxlplwig",
        "outputId": "3edbfbb9-64a7-4333-bd1b-9af85081d401"
      },
      "execution_count": 26,
      "outputs": [
        {
          "output_type": "display_data",
          "data": {
            "text/plain": [
              "<Figure size 600x600 with 2 Axes>"
            ],
            "image/png": "[encoded data removed]"
          },
          "metadata": {}
        }
      ]
    },
    {
      "cell_type": "markdown",
      "source": [
        "## Selecting dimensionality reduction with Pipeline and GridSearchCV\n",
        "\n",
        "▶ **Pipeline: Scaling -> Dimension Reduction -> Linear SVC(SVM)**\n",
        "\n",
        "This example constructs a pipeline that does dimensionality reduction followed by prediction with a support vector classifier.\n",
        "\n",
        "It demonstrates the use of ``GridSearchCV`` and ``Pipeline`` to optimize over different classes of estimators in a single CV run -- unsupervised ``PCA`` and ``NMF`` dimensionality reductions are compared to univariate feature selection during\n",
        "the grid search.\n",
        "\n",
        "Additionally, ``Pipeline`` can be instantiated with the ``memory`` argument to memoize the transformers within the pipeline, avoiding to fit again the same transformers over and over.\n",
        "\n",
        "Note that the use of ``memory`` to enable caching becomes interesting when the fitting of a transformer is costly.\n",
        "\n",
        "\n",
        "Modified from [Selecting dimensionality reduction with Pipeline and GridSearchCV](https://scikit-learn.org/stable/auto_examples/compose/plot_compare_reduction.html#sphx-glr-auto-examples-compose-plot-compare-reduction-py)"
      ],
      "metadata": {
        "id": "l0jpvhasrGgP"
      }
    },
    {
      "cell_type": "code",
      "source": [
        "# load necessary packages\n",
        "import matplotlib.pyplot as plt\n",
        "import numpy as np\n",
        "import pandas as pd\n",
        "\n",
        "from sklearn.datasets import load_digits\n",
        "from sklearn.decomposition import NMF, PCA\n",
        "from sklearn.feature_selection import SelectKBest, mutual_info_classif\n",
        "from sklearn.model_selection import GridSearchCV\n",
        "from sklearn.pipeline import Pipeline\n",
        "from sklearn.preprocessing import MinMaxScaler\n",
        "from sklearn.svm import LinearSVC"
      ],
      "metadata": {
        "id": "U0s5bAmsrd5Y"
      },
      "execution_count": 17,
      "outputs": []
    },
    {
      "cell_type": "code",
      "source": [
        "# load data\n",
        "X, y = load_digits(return_X_y=True)"
      ],
      "metadata": {
        "id": "9JGp_Kqxrd3L"
      },
      "execution_count": 18,
      "outputs": []
    },
    {
      "cell_type": "code",
      "source": [
        "# create a pipeline\n",
        "pipe = Pipeline(\n",
        "    [\n",
        "        (\"scaling\", MinMaxScaler()),\n",
        "        # the reduce_dim stage is populated by the param_grid\n",
        "        (\"reduce_dim\", \"passthrough\"),\n",
        "        (\"classify\", LinearSVC(dual=False, max_iter=10000)),\n",
        "    ]\n",
        ")\n"
      ],
      "metadata": {
        "id": "fCR5o6h5rd1W"
      },
      "execution_count": 19,
      "outputs": []
    },
    {
      "cell_type": "code",
      "source": [
        "N_FEATURES_OPTIONS = [2, 4, 8]\n",
        "C_OPTIONS = [1, 10, 100, 1000]\n",
        "param_grid = [\n",
        "    {                                       # Non-Negative Matrix Factorization (NMF)\n",
        "        \"reduce_dim\": [PCA(iterated_power=7), NMF(max_iter=1_000)],\n",
        "        \"reduce_dim__n_components\": N_FEATURES_OPTIONS,\n",
        "        \"classify__C\": C_OPTIONS,\n",
        "    },\n",
        "    {\n",
        "        \"reduce_dim\": [SelectKBest(mutual_info_classif)],\n",
        "        \"reduce_dim__k\": N_FEATURES_OPTIONS,\n",
        "        \"classify__C\": C_OPTIONS,\n",
        "    },\n",
        "]\n",
        "\n",
        "search = GridSearchCV(pipe, n_jobs=1, param_grid=param_grid)\n",
        "search.fit(X, y)"
      ],
      "metadata": {
        "colab": {
          "base_uri": "https://localhost:8080/",
          "height": 188
        },
        "id": "XD_JktKrlwvM",
        "outputId": "c316b8ca-f236-4def-ac6c-00064857aeab"
      },
      "execution_count": 20,
      "outputs": [
        {
          "output_type": "execute_result",
          "data": {
            "text/plain": [
              "GridSearchCV(estimator=Pipeline(steps=[('scaling', MinMaxScaler()),\n",
              "                                       ('reduce_dim', 'passthrough'),\n",
              "                                       ('classify',\n",
              "                                        LinearSVC(dual=False,\n",
              "                                                  max_iter=10000))]),\n",
              "             n_jobs=1,\n",
              "             param_grid=[{'classify__C': [1, 10, 100, 1000],\n",
              "                          'reduce_dim': [PCA(iterated_power=7),\n",
              "                                         NMF(max_iter=1000)],\n",
              "                          'reduce_dim__n_components': [2, 4, 8]},\n",
              "                         {'classify__C': [1, 10, 100, 1000],\n",
              "                          'reduce_dim': [SelectKBest(score_func=<function mutual_info_classif at 0x7d1bcba1ef80>)],\n",
              "                          'reduce_dim__k': [2, 4, 8]}])"
            ],
            "text/html": [
              "<style>#sk-container-id-1 {color: black;}#sk-container-id-1 pre{padding: 0;}#sk-container-id-1 div.sk-toggleable {background-color: white;}#sk-container-id-1 label.sk-toggleable__label {cursor: pointer;display: block;width: 100%;margin-bottom: 0;padding: 0.3em;box-sizing: border-box;text-align: center;}#sk-container-id-1 label.sk-toggleable__label-arrow:before {content: \"▸\";float: left;margin-right: 0.25em;color: #696969;}#sk-container-id-1 label.sk-toggleable__label-arrow:hover:before {color: black;}#sk-container-id-1 div.sk-estimator:hover label.sk-toggleable__label-arrow:before {color: black;}#sk-container-id-1 div.sk-toggleable__content {max-height: 0;max-width: 0;overflow: hidden;text-align: left;background-color: #f0f8ff;}#sk-container-id-1 div.sk-toggleable__content pre {margin: 0.2em;color: black;border-radius: 0.25em;background-color: #f0f8ff;}#sk-container-id-1 input.sk-toggleable__control:checked~div.sk-toggleable__content {max-height: 200px;max-width: 100%;overflow: auto;}#sk-container-id-1 input.sk-toggleable__control:checked~label.sk-toggleable__label-arrow:before {content: \"▾\";}#sk-container-id-1 div.sk-estimator input.sk-toggleable__control:checked~label.sk-toggleable__label {background-color: #d4ebff;}#sk-container-id-1 div.sk-label input.sk-toggleable__control:checked~label.sk-toggleable__label {background-color: #d4ebff;}#sk-container-id-1 input.sk-hidden--visually {border: 0;clip: rect(1px 1px 1px 1px);clip: rect(1px, 1px, 1px, 1px);height: 1px;margin: -1px;overflow: hidden;padding: 0;position: absolute;width: 1px;}#sk-container-id-1 div.sk-estimator {font-family: monospace;background-color: #f0f8ff;border: 1px dotted black;border-radius: 0.25em;box-sizing: border-box;margin-bottom: 0.5em;}#sk-container-id-1 div.sk-estimator:hover {background-color: #d4ebff;}#sk-container-id-1 div.sk-parallel-item::after {content: \"\";width: 100%;border-bottom: 1px solid gray;flex-grow: 1;}#sk-container-id-1 div.sk-label:hover label.sk-toggleable__label {background-color: #d4ebff;}#sk-container-id-1 div.sk-serial::before {content: \"\";position: absolute;border-left: 1px solid gray;box-sizing: border-box;top: 0;bottom: 0;left: 50%;z-index: 0;}#sk-container-id-1 div.sk-serial {display: flex;flex-direction: column;align-items: center;background-color: white;padding-right: 0.2em;padding-left: 0.2em;position: relative;}#sk-container-id-1 div.sk-item {position: relative;z-index: 1;}#sk-container-id-1 div.sk-parallel {display: flex;align-items: stretch;justify-content: center;background-color: white;position: relative;}#sk-container-id-1 div.sk-item::before, #sk-container-id-1 div.sk-parallel-item::before {content: \"\";position: absolute;border-left: 1px solid gray;box-sizing: border-box;top: 0;bottom: 0;left: 50%;z-index: -1;}#sk-container-id-1 div.sk-parallel-item {display: flex;flex-direction: column;z-index: 1;position: relative;background-color: white;}#sk-container-id-1 div.sk-parallel-item:first-child::after {align-self: flex-end;width: 50%;}#sk-container-id-1 div.sk-parallel-item:last-child::after {align-self: flex-start;width: 50%;}#sk-container-id-1 div.sk-parallel-item:only-child::after {width: 0;}#sk-container-id-1 div.sk-dashed-wrapped {border: 1px dashed gray;margin: 0 0.4em 0.5em 0.4em;box-sizing: border-box;padding-bottom: 0.4em;background-color: white;}#sk-container-id-1 div.sk-label label {font-family: monospace;font-weight: bold;display: inline-block;line-height: 1.2em;}#sk-container-id-1 div.sk-label-container {text-align: center;}#sk-container-id-1 div.sk-container {/* jupyter's `normalize.less` sets `[hidden] { display: none; }` but bootstrap.min.css set `[hidden] { display: none !important; }` so we also need the `!important` here to be able to override the default hidden behavior on the sphinx rendered scikit-learn.org. See: https://github.com/scikit-learn/scikit-learn/issues/21755 */display: inline-block !important;position: relative;}#sk-container-id-1 div.sk-text-repr-fallback {display: none;}</style><div id=\"sk-container-id-1\" class=\"sk-top-container\"><div class=\"sk-text-repr-fallback\"><pre>GridSearchCV(estimator=Pipeline(steps=[(&#x27;scaling&#x27;, MinMaxScaler()),\n",
              "                                       (&#x27;reduce_dim&#x27;, &#x27;passthrough&#x27;),\n",
              "                                       (&#x27;classify&#x27;,\n",
              "                                        LinearSVC(dual=False,\n",
              "                                                  max_iter=10000))]),\n",
              "             n_jobs=1,\n",
              "             param_grid=[{&#x27;classify__C&#x27;: [1, 10, 100, 1000],\n",
              "                          &#x27;reduce_dim&#x27;: [PCA(iterated_power=7),\n",
              "                                         NMF(max_iter=1000)],\n",
              "                          &#x27;reduce_dim__n_components&#x27;: [2, 4, 8]},\n",
              "                         {&#x27;classify__C&#x27;: [1, 10, 100, 1000],\n",
              "                          &#x27;reduce_dim&#x27;: [SelectKBest(score_func=&lt;function mutual_info_classif at 0x7d1bcba1ef80&gt;)],\n",
              "                          &#x27;reduce_dim__k&#x27;: [2, 4, 8]}])</pre><b>In a Jupyter environment, please rerun this cell to show the HTML representation or trust the notebook. <br />On GitHub, the HTML representation is unable to render, please try loading this page with nbviewer.org.</b></div><div class=\"sk-container\" hidden><div class=\"sk-item sk-dashed-wrapped\"><div class=\"sk-label-container\"><div class=\"sk-label sk-toggleable\"><input class=\"sk-toggleable__control sk-hidden--visually\" id=\"sk-estimator-id-1\" type=\"checkbox\" ><label for=\"sk-estimator-id-1\" class=\"sk-toggleable__label sk-toggleable__label-arrow\">GridSearchCV</label><div class=\"sk-toggleable__content\"><pre>GridSearchCV(estimator=Pipeline(steps=[(&#x27;scaling&#x27;, MinMaxScaler()),\n",
              "                                       (&#x27;reduce_dim&#x27;, &#x27;passthrough&#x27;),\n",
              "                                       (&#x27;classify&#x27;,\n",
              "                                        LinearSVC(dual=False,\n",
              "                                                  max_iter=10000))]),\n",
              "             n_jobs=1,\n",
              "             param_grid=[{&#x27;classify__C&#x27;: [1, 10, 100, 1000],\n",
              "                          &#x27;reduce_dim&#x27;: [PCA(iterated_power=7),\n",
              "                                         NMF(max_iter=1000)],\n",
              "                          &#x27;reduce_dim__n_components&#x27;: [2, 4, 8]},\n",
              "                         {&#x27;classify__C&#x27;: [1, 10, 100, 1000],\n",
              "                          &#x27;reduce_dim&#x27;: [SelectKBest(score_func=&lt;function mutual_info_classif at 0x7d1bcba1ef80&gt;)],\n",
              "                          &#x27;reduce_dim__k&#x27;: [2, 4, 8]}])</pre></div></div></div><div class=\"sk-parallel\"><div class=\"sk-parallel-item\"><div class=\"sk-item\"><div class=\"sk-label-container\"><div class=\"sk-label sk-toggleable\"><input class=\"sk-toggleable__control sk-hidden--visually\" id=\"sk-estimator-id-2\" type=\"checkbox\" ><label for=\"sk-estimator-id-2\" class=\"sk-toggleable__label sk-toggleable__label-arrow\">estimator: Pipeline</label><div class=\"sk-toggleable__content\"><pre>Pipeline(steps=[(&#x27;scaling&#x27;, MinMaxScaler()), (&#x27;reduce_dim&#x27;, &#x27;passthrough&#x27;),\n",
              "                (&#x27;classify&#x27;, LinearSVC(dual=False, max_iter=10000))])</pre></div></div></div><div class=\"sk-serial\"><div class=\"sk-item\"><div class=\"sk-serial\"><div class=\"sk-item\"><div class=\"sk-estimator sk-toggleable\"><input class=\"sk-toggleable__control sk-hidden--visually\" id=\"sk-estimator-id-3\" type=\"checkbox\" ><label for=\"sk-estimator-id-3\" class=\"sk-toggleable__label sk-toggleable__label-arrow\">MinMaxScaler</label><div class=\"sk-toggleable__content\"><pre>MinMaxScaler()</pre></div></div></div><div class=\"sk-item\"><div class=\"sk-estimator sk-toggleable\"><input class=\"sk-toggleable__control sk-hidden--visually\" id=\"sk-estimator-id-4\" type=\"checkbox\" ><label for=\"sk-estimator-id-4\" class=\"sk-toggleable__label sk-toggleable__label-arrow\">passthrough</label><div class=\"sk-toggleable__content\"><pre>passthrough</pre></div></div></div><div class=\"sk-item\"><div class=\"sk-estimator sk-toggleable\"><input class=\"sk-toggleable__control sk-hidden--visually\" id=\"sk-estimator-id-5\" type=\"checkbox\" ><label for=\"sk-estimator-id-5\" class=\"sk-toggleable__label sk-toggleable__label-arrow\">LinearSVC</label><div class=\"sk-toggleable__content\"><pre>LinearSVC(dual=False, max_iter=10000)</pre></div></div></div></div></div></div></div></div></div></div></div></div>"
            ]
          },
          "metadata": {},
          "execution_count": 20
        }
      ]
    },
    {
      "cell_type": "code",
      "source": [
        "mean_scores = np.array(search.cv_results_[\"mean_test_score\"])\n",
        "# scores are in the order of param_grid iteration, which is alphabetical\n",
        "mean_scores = mean_scores.reshape(len(C_OPTIONS), -1, len(N_FEATURES_OPTIONS))\n",
        "# select score for best C\n",
        "mean_scores = mean_scores.max(axis=0)\n",
        "# create a dataframe to ease plotting\n",
        "reducer_labels = [\"PCA\", \"NMF\", \"KBest(mutual_info_classif)\"]\n",
        "mean_scores = pd.DataFrame(\n",
        "    mean_scores.T, index=N_FEATURES_OPTIONS, columns=reducer_labels\n",
        ")\n",
        "\n",
        "ax = mean_scores.plot.bar()\n",
        "ax.set_title(\"Comparing feature reduction techniques\")\n",
        "ax.set_xlabel(\"Reduced number of features\")\n",
        "ax.set_ylabel(\"Digit classification accuracy\")\n",
        "ax.set_ylim((0, 1))\n",
        "ax.legend(loc=\"upper left\")\n",
        "\n",
        "plt.show()"
      ],
      "metadata": {
        "colab": {
          "base_uri": "https://localhost:8080/",
          "height": 467
        },
        "id": "F2nuVk9gsyhB",
        "outputId": "b7239e1d-4f36-40d3-a4f4-eed21f2de6ec"
      },
      "execution_count": 21,
      "outputs": [
        {
          "output_type": "display_data",
          "data": {
            "text/plain": [
              "<Figure size 640x480 with 1 Axes>"
            ],
            "image/png": "[encoded data removed]"
          },
          "metadata": {}
        }
      ]
    },
    {
      "cell_type": "markdown",
      "source": [
        "## Toxic Comment Classification Pipeline\n",
        "\n",
        "▶ **Pipeline: Lemmatizer -> TFIDFs -> NBFeaturer -> Logistic Regression**\n",
        "\n",
        "Modified from [Kaggle: Sklearn pipelines tutorial](https://www.kaggle.com/code/sermakarevich/sklearn-pipelines-tutorial/notebook)"
      ],
      "metadata": {
        "id": "8E5xS7Gc1eF_"
      }
    },
    {
      "cell_type": "code",
      "source": [
        "# import necessary packages\n",
        "import pandas as pd\n",
        "import numpy as np\n",
        "from scipy import sparse\n",
        "\n",
        "from nltk.stem import WordNetLemmatizer\n",
        "\n",
        "from sklearn.pipeline import Pipeline, make_pipeline, FeatureUnion\n",
        "from sklearn.feature_extraction.text import TfidfVectorizer\n",
        "from sklearn.base import BaseEstimator, ClassifierMixin\n",
        "from sklearn.linear_model import LogisticRegression\n",
        "from sklearn.model_selection import cross_val_score, GridSearchCV, RandomizedSearchCV\n",
        "from sklearn.metrics import roc_auc_score"
      ],
      "metadata": {
        "id": "5-nWpuzM1o1F"
      },
      "execution_count": 1,
      "outputs": []
    },
    {
      "cell_type": "code",
      "source": [
        "import nltk\n",
        "nltk.download('wordnet')"
      ],
      "metadata": {
        "colab": {
          "base_uri": "https://localhost:8080/"
        },
        "id": "HNkjn7Vs4N6M",
        "outputId": "c174e39a-45c8-4b36-ddaa-19e047a422f6"
      },
      "execution_count": 7,
      "outputs": [
        {
          "output_type": "stream",
          "name": "stderr",
          "text": [
            "[nltk_data] Downloading package wordnet to /root/nltk_data...\n"
          ]
        },
        {
          "output_type": "execute_result",
          "data": {
            "text/plain": [
              "True"
            ]
          },
          "metadata": {},
          "execution_count": 7
        }
      ]
    },
    {
      "cell_type": "code",
      "source": [
        "from google.colab import drive\n",
        "drive.mount('/content/drive')"
      ],
      "metadata": {
        "colab": {
          "base_uri": "https://localhost:8080/"
        },
        "id": "49apyX5t2iXj",
        "outputId": "01018eb0-0e4b-462c-a0e9-7a93979b30b3"
      },
      "execution_count": 2,
      "outputs": [
        {
          "output_type": "stream",
          "name": "stdout",
          "text": [
            "Mounted at /content/drive\n"
          ]
        }
      ]
    },
    {
      "cell_type": "code",
      "source": [
        "df = pd.read_csv('/content/drive/MyDrive/ML/input/toxic_comment/train.csv')\n",
        "x = df['comment_text'].values[:12000]\n",
        "y = df['toxic'].values[:12000]"
      ],
      "metadata": {
        "id": "ZVgFRtJ31p3Z"
      },
      "execution_count": 9,
      "outputs": []
    },
    {
      "cell_type": "code",
      "source": [
        "class Lemmatizer(BaseEstimator):\n",
        "    def __init__(self):\n",
        "        self.l = WordNetLemmatizer()\n",
        "\n",
        "    def fit(self, x, y=None):\n",
        "        return self\n",
        "\n",
        "    def transform(self, x):\n",
        "        x = map(lambda r:  ' '.join([self.l.lemmatize(i.lower()) for i in r.split()]), x)\n",
        "        x = np.array(list(x))\n",
        "        return x\n",
        "\n",
        "class NBFeaturer(BaseEstimator):\n",
        "    def __init__(self, alpha):\n",
        "        self.alpha = alpha\n",
        "\n",
        "    def preprocess_x(self, x, r):\n",
        "        return x.multiply(r)\n",
        "\n",
        "    def pr(self, x, y_i, y):\n",
        "        p = x[y==y_i].sum(0)\n",
        "        return (p+self.alpha) / ((y==y_i).sum()+self.alpha)\n",
        "\n",
        "    def fit(self, x, y=None):\n",
        "        self._r = sparse.csr_matrix(np.log(self.pr(x,1,y) / self.pr(x,0,y)))\n",
        "        return self\n",
        "\n",
        "    def transform(self, x):\n",
        "        x_nb = self.preprocess_x(x, self._r)\n",
        "        return x_nb"
      ],
      "metadata": {
        "id": "Qca7qqDP3e0g"
      },
      "execution_count": 5,
      "outputs": []
    },
    {
      "cell_type": "code",
      "source": [
        "pipeline = Pipeline([\n",
        "    ('Lemmatizer', Lemmatizer()),\n",
        "    ('wc_tfidfs',\n",
        "         FeatureUnion([\n",
        "            ('tfidf_w', TfidfVectorizer(max_features=2500, analyzer='word')),\n",
        "            ('tfidf_c', TfidfVectorizer(max_features=2500, analyzer='char'))\n",
        "         ])\n",
        "    ),\n",
        "    ('NBFeaturer', NBFeaturer(alpha = 1)),\n",
        "    ('LogisticRegression', LogisticRegression())\n",
        "])\n",
        "\n",
        "cross_val_score(estimator=pipeline, X=x, y=y, scoring='roc_auc',\n",
        "                cv=3, n_jobs=-1)"
      ],
      "metadata": {
        "colab": {
          "base_uri": "https://localhost:8080/"
        },
        "id": "gJ8VbTwf1qzQ",
        "outputId": "a75260da-2506-4c62-9e96-801fa2b7ef71"
      },
      "execution_count": 10,
      "outputs": [
        {
          "output_type": "execute_result",
          "data": {
            "text/plain": [
              "array([0.95379062, 0.95099242, 0.94371589])"
            ]
          },
          "metadata": {},
          "execution_count": 10
        }
      ]
    },
    {
      "cell_type": "code",
      "source": [
        "param_grid = [{\n",
        "    'wc_tfidfs__tfidf_w__max_features': [2500,3000],\n",
        "    'wc_tfidfs__tfidf_c__stop_words': ['english'],\n",
        "}]\n",
        "\n",
        "grid = GridSearchCV(pipeline, cv=3, n_jobs=-1, param_grid=param_grid,\n",
        "                    scoring='roc_auc', return_train_score=False, verbose=1)\n",
        "grid.fit(x, y)\n",
        "grid.cv_results_"
      ],
      "metadata": {
        "colab": {
          "base_uri": "https://localhost:8080/"
        },
        "id": "-HtrNgOp4mo7",
        "outputId": "755b8566-8fef-4199-ad27-4930dadcbfcd"
      },
      "execution_count": 15,
      "outputs": [
        {
          "output_type": "stream",
          "name": "stdout",
          "text": [
            "Fitting 3 folds for each of 2 candidates, totalling 6 fits\n"
          ]
        },
        {
          "output_type": "stream",
          "name": "stderr",
          "text": [
            "/usr/local/lib/python3.10/dist-packages/sklearn/feature_extraction/text.py:547: UserWarning: The parameter 'stop_words' will not be used since 'analyzer' != 'word'\n",
            "  warnings.warn(\n"
          ]
        },
        {
          "output_type": "execute_result",
          "data": {
            "text/plain": [
              "{'mean_fit_time': array([12.94766911,  9.06500538]),\n",
              " 'std_fit_time': array([0.26435309, 2.50061322]),\n",
              " 'mean_score_time': array([3.33185498, 4.90481893]),\n",
              " 'std_score_time': array([0.03577519, 1.16176665]),\n",
              " 'param_wc_tfidfs__tfidf_c__stop_words': masked_array(data=['english', 'english'],\n",
              "              mask=[False, False],\n",
              "        fill_value='?',\n",
              "             dtype=object),\n",
              " 'param_wc_tfidfs__tfidf_w__max_features': masked_array(data=[2500, 3000],\n",
              "              mask=[False, False],\n",
              "        fill_value='?',\n",
              "             dtype=object),\n",
              " 'params': [{'wc_tfidfs__tfidf_c__stop_words': 'english',\n",
              "   'wc_tfidfs__tfidf_w__max_features': 2500},\n",
              "  {'wc_tfidfs__tfidf_c__stop_words': 'english',\n",
              "   'wc_tfidfs__tfidf_w__max_features': 3000}],\n",
              " 'split0_test_score': array([0.95379062, 0.95401412]),\n",
              " 'split1_test_score': array([0.95099242, 0.95037304]),\n",
              " 'split2_test_score': array([0.94371589, 0.94626698]),\n",
              " 'mean_test_score': array([0.94949964, 0.95021805]),\n",
              " 'std_test_score': array([0.00424628, 0.00316466]),\n",
              " 'rank_test_score': array([2, 1], dtype=int32)}"
            ]
          },
          "metadata": {},
          "execution_count": 15
        }
      ]
    },
    {
      "cell_type": "code",
      "source": [
        "grid.best_params_"
      ],
      "metadata": {
        "colab": {
          "base_uri": "https://localhost:8080/"
        },
        "id": "gWBBnvxb5Rdw",
        "outputId": "3c440f5b-fc2a-4fff-9117-a7113d2acbf7"
      },
      "execution_count": 16,
      "outputs": [
        {
          "output_type": "execute_result",
          "data": {
            "text/plain": [
              "{'wc_tfidfs__tfidf_c__stop_words': 'english',\n",
              " 'wc_tfidfs__tfidf_w__max_features': 3000}"
            ]
          },
          "metadata": {},
          "execution_count": 16
        }
      ]
    },
    {
      "cell_type": "markdown",
      "source": [
        "## Document NewsGroup Classification Pipeline\n",
        "\n",
        "▶ **Pipeline: TfidfVectorizer -> ComplementNB**\n",
        "\n",
        "Modified from [Sample pipeline for text feature extraction and evaluation](https://scikit-learn.org/stable/auto_examples/model_selection/plot_grid_search_text_feature_extraction.html#sphx-glr-auto-examples-model-selection-plot-grid-search-text-feature-extraction-py)"
      ],
      "metadata": {
        "id": "Pl06-sCc92cu"
      }
    },
    {
      "cell_type": "code",
      "source": [
        "import numpy as np\n",
        "from pprint import pprint\n",
        "\n",
        "from sklearn.datasets import fetch_20newsgroups\n",
        "from sklearn.feature_extraction.text import TfidfVectorizer\n",
        "from sklearn.naive_bayes import ComplementNB\n",
        "from sklearn.pipeline import Pipeline\n",
        "from sklearn.model_selection import RandomizedSearchCV"
      ],
      "metadata": {
        "id": "Db5HVVpB-H-q"
      },
      "execution_count": 32,
      "outputs": []
    },
    {
      "cell_type": "code",
      "source": [
        "categories = [\n",
        "    \"alt.atheism\",\n",
        "    \"talk.religion.misc\",\n",
        "]\n",
        "\n",
        "data_train = fetch_20newsgroups(\n",
        "    subset=\"train\",\n",
        "    categories=categories,\n",
        "    shuffle=True,\n",
        "    random_state=42,\n",
        "    remove=(\"headers\", \"footers\", \"quotes\"),\n",
        ")\n",
        "\n",
        "data_test = fetch_20newsgroups(\n",
        "    subset=\"test\",\n",
        "    categories=categories,\n",
        "    shuffle=True,\n",
        "    random_state=42,\n",
        "    remove=(\"headers\", \"footers\", \"quotes\"),\n",
        ")\n",
        "\n",
        "print(f\"Loading 20 newsgroups dataset for {len(data_train.target_names)} categories:\")\n",
        "print(data_train.target_names)\n",
        "print(f\"{len(data_train.data)} documents\")"
      ],
      "metadata": {
        "colab": {
          "base_uri": "https://localhost:8080/"
        },
        "id": "pk0oknsL-H8f",
        "outputId": "73c4a674-bc59-4311-cf1e-eeee39016a2d"
      },
      "execution_count": 28,
      "outputs": [
        {
          "output_type": "stream",
          "name": "stdout",
          "text": [
            "Loading 20 newsgroups dataset for 2 categories:\n",
            "['alt.atheism', 'talk.religion.misc']\n",
            "857 documents\n"
          ]
        }
      ]
    },
    {
      "cell_type": "code",
      "source": [
        "pipeline = Pipeline(\n",
        "    [\n",
        "        (\"vect\", TfidfVectorizer()),\n",
        "        (\"clf\", ComplementNB()),\n",
        "    ]\n",
        ")\n",
        "pipeline"
      ],
      "metadata": {
        "colab": {
          "base_uri": "https://localhost:8080/",
          "height": 127
        },
        "id": "tPOeYX2E-H2d",
        "outputId": "ececce2b-8260-4114-f06e-be7ca93e9958"
      },
      "execution_count": 29,
      "outputs": [
        {
          "output_type": "execute_result",
          "data": {
            "text/plain": [
              "Pipeline(steps=[('vect', TfidfVectorizer()), ('clf', ComplementNB())])"
            ],
            "text/html": [
              "<style>#sk-container-id-2 {color: black;}#sk-container-id-2 pre{padding: 0;}#sk-container-id-2 div.sk-toggleable {background-color: white;}#sk-container-id-2 label.sk-toggleable__label {cursor: pointer;display: block;width: 100%;margin-bottom: 0;padding: 0.3em;box-sizing: border-box;text-align: center;}#sk-container-id-2 label.sk-toggleable__label-arrow:before {content: \"▸\";float: left;margin-right: 0.25em;color: #696969;}#sk-container-id-2 label.sk-toggleable__label-arrow:hover:before {color: black;}#sk-container-id-2 div.sk-estimator:hover label.sk-toggleable__label-arrow:before {color: black;}#sk-container-id-2 div.sk-toggleable__content {max-height: 0;max-width: 0;overflow: hidden;text-align: left;background-color: #f0f8ff;}#sk-container-id-2 div.sk-toggleable__content pre {margin: 0.2em;color: black;border-radius: 0.25em;background-color: #f0f8ff;}#sk-container-id-2 input.sk-toggleable__control:checked~div.sk-toggleable__content {max-height: 200px;max-width: 100%;overflow: auto;}#sk-container-id-2 input.sk-toggleable__control:checked~label.sk-toggleable__label-arrow:before {content: \"▾\";}#sk-container-id-2 div.sk-estimator input.sk-toggleable__control:checked~label.sk-toggleable__label {background-color: #d4ebff;}#sk-container-id-2 div.sk-label input.sk-toggleable__control:checked~label.sk-toggleable__label {background-color: #d4ebff;}#sk-container-id-2 input.sk-hidden--visually {border: 0;clip: rect(1px 1px 1px 1px);clip: rect(1px, 1px, 1px, 1px);height: 1px;margin: -1px;overflow: hidden;padding: 0;position: absolute;width: 1px;}#sk-container-id-2 div.sk-estimator {font-family: monospace;background-color: #f0f8ff;border: 1px dotted black;border-radius: 0.25em;box-sizing: border-box;margin-bottom: 0.5em;}#sk-container-id-2 div.sk-estimator:hover {background-color: #d4ebff;}#sk-container-id-2 div.sk-parallel-item::after {content: \"\";width: 100%;border-bottom: 1px solid gray;flex-grow: 1;}#sk-container-id-2 div.sk-label:hover label.sk-toggleable__label {background-color: #d4ebff;}#sk-container-id-2 div.sk-serial::before {content: \"\";position: absolute;border-left: 1px solid gray;box-sizing: border-box;top: 0;bottom: 0;left: 50%;z-index: 0;}#sk-container-id-2 div.sk-serial {display: flex;flex-direction: column;align-items: center;background-color: white;padding-right: 0.2em;padding-left: 0.2em;position: relative;}#sk-container-id-2 div.sk-item {position: relative;z-index: 1;}#sk-container-id-2 div.sk-parallel {display: flex;align-items: stretch;justify-content: center;background-color: white;position: relative;}#sk-container-id-2 div.sk-item::before, #sk-container-id-2 div.sk-parallel-item::before {content: \"\";position: absolute;border-left: 1px solid gray;box-sizing: border-box;top: 0;bottom: 0;left: 50%;z-index: -1;}#sk-container-id-2 div.sk-parallel-item {display: flex;flex-direction: column;z-index: 1;position: relative;background-color: white;}#sk-container-id-2 div.sk-parallel-item:first-child::after {align-self: flex-end;width: 50%;}#sk-container-id-2 div.sk-parallel-item:last-child::after {align-self: flex-start;width: 50%;}#sk-container-id-2 div.sk-parallel-item:only-child::after {width: 0;}#sk-container-id-2 div.sk-dashed-wrapped {border: 1px dashed gray;margin: 0 0.4em 0.5em 0.4em;box-sizing: border-box;padding-bottom: 0.4em;background-color: white;}#sk-container-id-2 div.sk-label label {font-family: monospace;font-weight: bold;display: inline-block;line-height: 1.2em;}#sk-container-id-2 div.sk-label-container {text-align: center;}#sk-container-id-2 div.sk-container {/* jupyter's `normalize.less` sets `[hidden] { display: none; }` but bootstrap.min.css set `[hidden] { display: none !important; }` so we also need the `!important` here to be able to override the default hidden behavior on the sphinx rendered scikit-learn.org. See: https://github.com/scikit-learn/scikit-learn/issues/21755 */display: inline-block !important;position: relative;}#sk-container-id-2 div.sk-text-repr-fallback {display: none;}</style><div id=\"sk-container-id-2\" class=\"sk-top-container\"><div class=\"sk-text-repr-fallback\"><pre>Pipeline(steps=[(&#x27;vect&#x27;, TfidfVectorizer()), (&#x27;clf&#x27;, ComplementNB())])</pre><b>In a Jupyter environment, please rerun this cell to show the HTML representation or trust the notebook. <br />On GitHub, the HTML representation is unable to render, please try loading this page with nbviewer.org.</b></div><div class=\"sk-container\" hidden><div class=\"sk-item sk-dashed-wrapped\"><div class=\"sk-label-container\"><div class=\"sk-label sk-toggleable\"><input class=\"sk-toggleable__control sk-hidden--visually\" id=\"sk-estimator-id-6\" type=\"checkbox\" ><label for=\"sk-estimator-id-6\" class=\"sk-toggleable__label sk-toggleable__label-arrow\">Pipeline</label><div class=\"sk-toggleable__content\"><pre>Pipeline(steps=[(&#x27;vect&#x27;, TfidfVectorizer()), (&#x27;clf&#x27;, ComplementNB())])</pre></div></div></div><div class=\"sk-serial\"><div class=\"sk-item\"><div class=\"sk-estimator sk-toggleable\"><input class=\"sk-toggleable__control sk-hidden--visually\" id=\"sk-estimator-id-7\" type=\"checkbox\" ><label for=\"sk-estimator-id-7\" class=\"sk-toggleable__label sk-toggleable__label-arrow\">TfidfVectorizer</label><div class=\"sk-toggleable__content\"><pre>TfidfVectorizer()</pre></div></div></div><div class=\"sk-item\"><div class=\"sk-estimator sk-toggleable\"><input class=\"sk-toggleable__control sk-hidden--visually\" id=\"sk-estimator-id-8\" type=\"checkbox\" ><label for=\"sk-estimator-id-8\" class=\"sk-toggleable__label sk-toggleable__label-arrow\">ComplementNB</label><div class=\"sk-toggleable__content\"><pre>ComplementNB()</pre></div></div></div></div></div></div></div>"
            ]
          },
          "metadata": {},
          "execution_count": 29
        }
      ]
    },
    {
      "cell_type": "code",
      "source": [
        "parameter_grid = {\n",
        "    \"vect__max_df\": (0.2, 0.4, 0.6, 0.8, 1.0),\n",
        "    \"vect__min_df\": (1, 3, 5, 10),\n",
        "    \"vect__ngram_range\": ((1, 1), (1, 2)),  # unigrams or bigrams\n",
        "    \"vect__norm\": (\"l1\", \"l2\"),\n",
        "    \"clf__alpha\": np.logspace(-6, 6, 13),\n",
        "}"
      ],
      "metadata": {
        "id": "EDjWV9AC-HP-"
      },
      "execution_count": 31,
      "outputs": []
    },
    {
      "cell_type": "code",
      "source": [
        "random_search = RandomizedSearchCV(\n",
        "    estimator=pipeline,\n",
        "    param_distributions=parameter_grid,\n",
        "    n_iter=40,\n",
        "    random_state=0,\n",
        "    n_jobs=2,\n",
        "    verbose=1,\n",
        ")\n",
        "\n",
        "random_search.fit(data_train.data, data_train.target)\n",
        "best_parameters = random_search.best_estimator_.get_params()\n",
        "for param_name in sorted(parameter_grid.keys()):\n",
        "    print(f\"{param_name}: {best_parameters[param_name]}\")"
      ],
      "metadata": {
        "colab": {
          "base_uri": "https://localhost:8080/"
        },
        "id": "JIhUaoG5-05S",
        "outputId": "d5763da5-39d0-4041-ee0f-a5ea376df5b0"
      },
      "execution_count": 34,
      "outputs": [
        {
          "output_type": "stream",
          "name": "stdout",
          "text": [
            "Fitting 5 folds for each of 40 candidates, totalling 200 fits\n",
            "clf__alpha: 0.01\n",
            "vect__max_df: 0.2\n",
            "vect__min_df: 1\n",
            "vect__ngram_range: (1, 1)\n",
            "vect__norm: l1\n"
          ]
        }
      ]
    },
    {
      "cell_type": "code",
      "source": [
        "test_accuracy = random_search.score(data_test.data, data_test.target)\n",
        "print(\n",
        "    \"Accuracy of the best parameters using the inner CV of \"\n",
        "    f\"the random search: {random_search.best_score_:.3f}\"\n",
        ")\n",
        "print(f\"Accuracy on test set: {test_accuracy:.3f}\")"
      ],
      "metadata": {
        "colab": {
          "base_uri": "https://localhost:8080/"
        },
        "id": "Sv1q3Bic-0uR",
        "outputId": "5ecc48f9-63de-4e76-a603-ef721c968682"
      },
      "execution_count": 35,
      "outputs": [
        {
          "output_type": "stream",
          "name": "stdout",
          "text": [
            "Accuracy of the best parameters using the inner CV of the random search: 0.816\n",
            "Accuracy on test set: 0.709\n"
          ]
        }
      ]
    }
  ]
}
